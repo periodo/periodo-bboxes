{
 "cells": [
  {
   "cell_type": "code",
   "execution_count": 1,
   "metadata": {
    "scrolled": true
   },
   "outputs": [
    {
     "data": {
      "application/javascript": [
       "IPython.OutputArea.prototype._should_scroll = function(lines) {\n",
       "    return false;\n",
       "}"
      ],
      "text/plain": [
       "<IPython.core.display.Javascript object>"
      ]
     },
     "metadata": {},
     "output_type": "display_data"
    }
   ],
   "source": [
    "%%javascript\n",
    "IPython.OutputArea.prototype._should_scroll = function(lines) {\n",
    "    return false;\n",
    "}"
   ]
  },
  {
   "cell_type": "code",
   "execution_count": 2,
   "metadata": {
    "scrolled": true
   },
   "outputs": [],
   "source": [
    "from ipyleaflet import (\n",
    "    Map,\n",
    "    Marker,\n",
    "    TileLayer, ImageOverlay,\n",
    "    Polyline, Polygon, Rectangle, Circle, CircleMarker,\n",
    "    GeoJSON,\n",
    "    DrawControl\n",
    ")\n",
    "from ipywidgets import (\n",
    "    HTML,\n",
    "    Button,\n",
    "    HBox\n",
    ")"
   ]
  },
  {
   "cell_type": "code",
   "execution_count": 3,
   "metadata": {
    "scrolled": true
   },
   "outputs": [],
   "source": [
    "import ipywidgets as widgets\n",
    "l = HTML(value='')\n",
    "m = Map(center=(0,0), zoom=2)\n",
    "p = Button(description='<')\n",
    "n = Button(description='>')\n",
    "\n",
    "def hover_handler(event=None, id=None, properties=None):\n",
    "    l.value = properties['label']"
   ]
  },
  {
   "cell_type": "code",
   "execution_count": 11,
   "metadata": {
    "scrolled": true
   },
   "outputs": [],
   "source": [
    "def is_point(bbox):\n",
    "    return (abs(bbox[0] - bbox[2]) < 0.01 and abs(bbox[1] - bbox[3]) < 0.01)\n",
    "\n",
    "def bbox2feature(bbox, title):\n",
    "    [w, s, e, n] = bbox\n",
    "    feature = {\n",
    "        'type': 'Feature',\n",
    "        'properties': {\n",
    "            'style': {'color': 'white', 'weight': 1, 'fillColor':'blue', 'fillOpacity':0.5},\n",
    "            'label': title\n",
    "        },\n",
    "        'geometry': {\n",
    "            'type': 'Polygon',\n",
    "            'coordinates': [[[w,s], [e,s], [e,n], [w,n], [w,s]]]\n",
    "        }\n",
    "    }\n",
    "    g = GeoJSON(data=feature, hover_style={'fillColor': 'red'})\n",
    "    g.on_hover(hover_handler)\n",
    "    return g\n",
    "\n",
    "def bbox2marker(bbox, title):\n",
    "    [w, s, e, n] = bbox\n",
    "    return Marker(location=(s,w), draggable=False, title=title)\n",
    "\n",
    "def place2layer(place):\n",
    "    bbox = place['bbox']\n",
    "    title = place['title']\n",
    "    if is_point(bbox):\n",
    "        return bbox2marker(bbox, title)\n",
    "    else:\n",
    "        return bbox2feature(bbox, title)"
   ]
  },
  {
   "cell_type": "code",
   "execution_count": 12,
   "metadata": {
    "scrolled": true
   },
   "outputs": [],
   "source": [
    "from IPython.display import clear_output\n",
    "\n",
    "def show(feature):\n",
    "    feature['properties']['style'] = {\n",
    "        'color':'red',\n",
    "        'weight': 1,\n",
    "        'fillColor':'blue',\n",
    "        'fillOpacity':0.5\n",
    "    }\n",
    "    center = [\n",
    "        (feature['bbox'][0] + feature['bbox'][2])/2,\n",
    "        (feature['bbox'][1] + feature['bbox'][3])/2\n",
    "    ]\n",
    "    l.value = feature['properties']['id'].split('/')[-1] + ': ' + feature['properties']['label']\n",
    "    m = Map(center=center, zoom=2)\n",
    "    g = GeoJSON(data=feature, hover_style={'fillColor': 'red'})\n",
    "    g.on_hover(hover_handler)\n",
    "    m.add_layer(g)\n",
    "\n",
    "    for place in feature['properties']['places']:\n",
    "        m.add_layer(place2layer(place))\n",
    "\n",
    "    clear_output(wait=True)\n",
    "    display(m, HBox([p, n]), l)"
   ]
  },
  {
   "cell_type": "code",
   "execution_count": 13,
   "metadata": {
    "scrolled": true
   },
   "outputs": [],
   "source": [
    "import json\n",
    "with open('pleiades-bboxes.ndjson') as f:\n",
    "    features = [json.loads(line) for line in f.readlines()]\n",
    "    index = 0\n",
    "    def click_handler(b):\n",
    "        global index\n",
    "        if b == p and index > 0:\n",
    "            index -= 1\n",
    "        if b == n and index < (len(features) - 1):\n",
    "            index += 1\n",
    "        show(features[index])\n",
    "    p.on_click(click_handler)\n",
    "    n.on_click(click_handler)"
   ]
  },
  {
   "cell_type": "code",
   "execution_count": 14,
   "metadata": {
    "scrolled": true
   },
   "outputs": [
    {
     "data": {
      "application/vnd.jupyter.widget-view+json": {
       "model_id": "ed8f5f77515d409cb65dceb05788b032",
       "version_major": 2,
       "version_minor": 0
      },
      "text/plain": [
       "Map(basemap={'url': 'https://{s}.tile.openstreetmap.org/{z}/{x}/{y}.png', 'max_zoom': 19, 'attribution': 'Map …"
      ]
     },
     "metadata": {},
     "output_type": "display_data"
    },
    {
     "data": {
      "application/vnd.jupyter.widget-view+json": {
       "model_id": "617107ed4f204eda8044dcdd1798c015",
       "version_major": 2,
       "version_minor": 0
      },
      "text/plain": [
       "HBox(children=(Button(description='<', style=ButtonStyle()), Button(description='>', style=ButtonStyle())))"
      ]
     },
     "metadata": {},
     "output_type": "display_data"
    },
    {
     "data": {
      "application/vnd.jupyter.widget-view+json": {
       "model_id": "a0c6dbe40290441d9ed8c6b62a259f9d",
       "version_major": 2,
       "version_minor": 0
      },
      "text/plain": [
       "HTML(value='neolithic-egypt: Nilus (river) to Syene to Hermopolis Mikra')"
      ]
     },
     "metadata": {},
     "output_type": "display_data"
    }
   ],
   "source": [
    "show(features[index])"
   ]
  },
  {
   "cell_type": "code",
   "execution_count": null,
   "metadata": {},
   "outputs": [],
   "source": []
  }
 ],
 "metadata": {
  "kernelspec": {
   "display_name": "Python 3",
   "language": "python",
   "name": "python3"
  },
  "language_info": {
   "codemirror_mode": {
    "name": "ipython",
    "version": 3
   },
   "file_extension": ".py",
   "mimetype": "text/x-python",
   "name": "python",
   "nbconvert_exporter": "python",
   "pygments_lexer": "ipython3",
   "version": "3.6.5"
  }
 },
 "nbformat": 4,
 "nbformat_minor": 2
}
